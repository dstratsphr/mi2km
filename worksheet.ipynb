{
 "cells": [
  {
   "cell_type": "markdown",
   "metadata": {},
   "source": [
    "<h1>Unit Conversion</h1>\n",
    "<p>This program is based on an exercise from Chapter 3 of Stroustrup's \"PPP.\"</p>"
   ]
  },
  {
   "cell_type": "markdown",
   "metadata": {},
   "source": [
    "## Compilation\n",
    "\n",
    "The following command line will compile and run the program. Execute the cell below in Jupyter or copy the entire\n",
    "cell (excluding the exclamation point `!` at its beginning) to the command line and press `Enter`."
   ]
  },
  {
   "cell_type": "code",
   "execution_count": null,
   "metadata": {},
   "outputs": [],
   "source": [
    "! g++ src/main.cpp src/arguments.cpp --std=c++17 -o bin/mi2km -Iinc; \\\n",
    "./bin/mi2km 1"
   ]
  },
  {
   "cell_type": "code",
   "execution_count": null,
   "metadata": {},
   "outputs": [],
   "source": [
    "! g++ src/arguments.cpp -c --std=c++17 -o lib/args.a -Iinc; \\\n",
    "printf \"g++ return code: %s\\n\" $?"
   ]
  },
  {
   "cell_type": "markdown",
   "metadata": {},
   "source": [
    "### Compiling with Python"
   ]
  },
  {
   "cell_type": "markdown",
   "metadata": {},
   "source": [
    "The code below generates the `g++` command line using Python."
   ]
  },
  {
   "cell_type": "code",
   "execution_count": null,
   "metadata": {},
   "outputs": [],
   "source": [
    "from os import listdir\n",
    "from pathlib import Path\n",
    "from subprocess import run\n",
    "DEBUG = False\n",
    "CPP_STD = 17\n",
    "SRC_DIR = \"src\"\n",
    "CONTRIB_DIR = \"contrib\"\n",
    "include = [\n",
    "            \"inc\"\n",
    "          ]\n",
    "libraries = [ \n",
    "            ]\n",
    "PROGRAM_NAME = \"mi2km\"\n",
    "OUTPUT_FILE = \"bin/\" + PROGRAM_NAME\n",
    "cmd_line = \"g++ \" + (\"-g \" if DEBUG else \"\") + \"--std=c++%d \" % CPP_STD \\\n",
    "           + \"\".join([\"src/\" + s + ' ' for s in listdir(SRC_DIR)]) + ' ' \\\n",
    "           + \"\".join([\"-I\" + s + ' ' for s in include]) + ' ' \\\n",
    "           + \"\".join([\"-l\" + s + ' ' for s in libraries]) \\\n",
    "           + \"-o \" + OUTPUT_FILE\n",
    "print(cmd_line)\n",
    "run(cmd_line.split(), capture_output=True)"
   ]
  },
  {
   "cell_type": "markdown",
   "metadata": {},
   "source": [
    "# Documentation\n",
    "\n",
    "Click [here](file://docs/index.html) to read the documentation.\n",
    "The code below generates the documentation if it doesn't already exist."
   ]
  },
  {
   "cell_type": "code",
   "execution_count": null,
   "metadata": {},
   "outputs": [],
   "source": [
    "! doxygen etc/doxygen.cfg"
   ]
  },
  {
   "cell_type": "markdown",
   "metadata": {},
   "source": [
    "# Things To Do"
   ]
  },
  {
   "cell_type": "markdown",
   "metadata": {},
   "source": [
    "# References\n",
    "\n",
    "* [C++](http://www.cplusplus.com/reference/)\n",
    "* [Boost](https://www.boost.org/doc/libs/1_69_0/)\n",
    "* [g++](https://gcc.gnu.org/onlinedocs/gcc-7.4.0/gcc/)\n",
    "* [GNU Make](https://www.gnu.org/software/make/manual/make.html)\n",
    "* [Jupyter](https://jupyterlab.readthedocs.io/en/stable/)\n",
    "* [Doxygen](http://www.doxygen.nl/)"
   ]
  }
 ],
 "metadata": {
  "kernelspec": {
   "display_name": "Python 3",
   "language": "python",
   "name": "python3"
  },
  "language_info": {
   "codemirror_mode": {
    "name": "ipython",
    "version": 3
   },
   "file_extension": ".py",
   "mimetype": "text/x-python",
   "name": "python",
   "nbconvert_exporter": "python",
   "pygments_lexer": "ipython3",
   "version": "3.7.1"
  }
 },
 "nbformat": 4,
 "nbformat_minor": 2
}
